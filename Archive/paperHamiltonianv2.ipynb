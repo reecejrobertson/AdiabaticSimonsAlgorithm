{
 "cells": [
  {
   "cell_type": "code",
   "execution_count": 1,
   "metadata": {},
   "outputs": [],
   "source": [
    "import numpy as np"
   ]
  },
  {
   "cell_type": "code",
   "execution_count": 2,
   "metadata": {},
   "outputs": [
    {
     "name": "stdout",
     "output_type": "stream",
     "text": [
      "['000', '001', '010', '011', '100', '101', '110', '111']\n"
     ]
    }
   ],
   "source": [
    "def generateBitstrings(n):\n",
    "    bitstrings = []\n",
    "    for i in range(2**n):\n",
    "        bitstrings.append(f'{i:0{n}b}')\n",
    "    return bitstrings\n",
    "\n",
    "print(generateBitstrings(3))"
   ]
  },
  {
   "cell_type": "code",
   "execution_count": 3,
   "metadata": {},
   "outputs": [
    {
     "name": "stdout",
     "output_type": "stream",
     "text": [
      "0110\n"
     ]
    }
   ],
   "source": [
    "def addBitstrings(x, y):\n",
    "    z = []\n",
    "    for i, bit in enumerate(x):\n",
    "        z.append(str((int(bit) + int(y[i])) % 2))\n",
    "    return ''.join(z)\n",
    "\n",
    "print(addBitstrings('0011', '0101'))"
   ]
  },
  {
   "cell_type": "code",
   "execution_count": 4,
   "metadata": {},
   "outputs": [
    {
     "name": "stdout",
     "output_type": "stream",
     "text": [
      "{'000': '000', '111': '000', '110': '110', '001': '110', '010': '010', '101': '010', '100': '100', '011': '100'}\n"
     ]
    }
   ],
   "source": [
    "def generateF(bitstrings, s):\n",
    "    f = {}\n",
    "    for x in bitstrings:\n",
    "        if x not in f:\n",
    "            y = x if x[-1] == '0' else addBitstrings(x, s)\n",
    "            f[y] = y\n",
    "            f[addBitstrings(y, s)] = y\n",
    "    return f\n",
    "\n",
    "print(generateF(generateBitstrings(3), '111'))"
   ]
  },
  {
   "cell_type": "code",
   "execution_count": 5,
   "metadata": {},
   "outputs": [
    {
     "name": "stdout",
     "output_type": "stream",
     "text": [
      "2\n"
     ]
    }
   ],
   "source": [
    "def hammingDistance(x, y):\n",
    "    dist = 0\n",
    "    for i, bit in enumerate(x):\n",
    "        if bit != y[i]:\n",
    "            dist += 1\n",
    "    return dist\n",
    "\n",
    "print(hammingDistance('0011', '0101'))"
   ]
  },
  {
   "cell_type": "code",
   "execution_count": 6,
   "metadata": {},
   "outputs": [
    {
     "name": "stdout",
     "output_type": "stream",
     "text": [
      "[0. 0. 0. 0. 0. 1. 0. 0.]\n"
     ]
    }
   ],
   "source": [
    "def bitstringToVector(x):\n",
    "    v = np.zeros(2**len(x))\n",
    "    v[int(x, 2)] = 1\n",
    "    return v\n",
    "\n",
    "print(bitstringToVector('101'))"
   ]
  },
  {
   "cell_type": "code",
   "execution_count": 7,
   "metadata": {},
   "outputs": [
    {
     "name": "stdout",
     "output_type": "stream",
     "text": [
      "['00', '01', '10', '11']\n",
      "{'00': '00', '11': '00', '10': '10', '01': '10'}\n"
     ]
    },
    {
     "data": {
      "text/plain": [
       "array([[0., 0., 0., 0., 0., 0., 0., 0., 0., 0., 0., 0., 0., 0., 0., 0.],\n",
       "       [0., 1., 0., 0., 0., 0., 0., 0., 0., 0., 0., 0., 0., 0., 0., 0.],\n",
       "       [0., 0., 1., 0., 0., 0., 0., 0., 0., 0., 0., 0., 0., 0., 0., 0.],\n",
       "       [0., 0., 0., 2., 0., 0., 0., 0., 0., 0., 0., 0., 0., 0., 0., 0.],\n",
       "       [0., 0., 0., 0., 1., 0., 0., 0., 0., 0., 0., 0., 0., 0., 0., 0.],\n",
       "       [0., 0., 0., 0., 0., 2., 0., 0., 0., 0., 0., 0., 0., 0., 0., 0.],\n",
       "       [0., 0., 0., 0., 0., 0., 0., 0., 0., 0., 0., 0., 0., 0., 0., 0.],\n",
       "       [0., 0., 0., 0., 0., 0., 0., 1., 0., 0., 0., 0., 0., 0., 0., 0.],\n",
       "       [0., 0., 0., 0., 0., 0., 0., 0., 1., 0., 0., 0., 0., 0., 0., 0.],\n",
       "       [0., 0., 0., 0., 0., 0., 0., 0., 0., 2., 0., 0., 0., 0., 0., 0.],\n",
       "       [0., 0., 0., 0., 0., 0., 0., 0., 0., 0., 0., 0., 0., 0., 0., 0.],\n",
       "       [0., 0., 0., 0., 0., 0., 0., 0., 0., 0., 0., 1., 0., 0., 0., 0.],\n",
       "       [0., 0., 0., 0., 0., 0., 0., 0., 0., 0., 0., 0., 0., 0., 0., 0.],\n",
       "       [0., 0., 0., 0., 0., 0., 0., 0., 0., 0., 0., 0., 0., 1., 0., 0.],\n",
       "       [0., 0., 0., 0., 0., 0., 0., 0., 0., 0., 0., 0., 0., 0., 1., 0.],\n",
       "       [0., 0., 0., 0., 0., 0., 0., 0., 0., 0., 0., 0., 0., 0., 0., 2.]])"
      ]
     },
     "execution_count": 7,
     "metadata": {},
     "output_type": "execute_result"
    }
   ],
   "source": [
    "# def hamiltonian(n, s=None, verbose=False):\n",
    "#     outerBitstrings = generateBitstrings(n)\n",
    "#     innerBitstrings = generateBitstrings(n-1)\n",
    "#     if s == None:\n",
    "#         s = outerBitstrings[-1]\n",
    "#     f = generateF(outerBitstrings, s)\n",
    "#     outerSum = np.zeros((2**(2*n-1), 2**(2*n-1)))\n",
    "#     for x in outerBitstrings:\n",
    "#         v = bitstringToVector(x)\n",
    "#         innerSum = np.zeros((2**(n-1), 2**(n-1)))\n",
    "#         for y in innerBitstrings:\n",
    "#             w = bitstringToVector(y)\n",
    "#             innerSum += hammingDistance(y, f[x]) * np.outer(w, w)\n",
    "#         outerSum += np.kron(np.outer(v, v), innerSum)\n",
    "#     if verbose:\n",
    "#         print('Outer bitstrings:', outerBitstrings)\n",
    "#         print('Inner bitstrings:', innerBitstrings)\n",
    "#         print('Function f(x):   ', f)\n",
    "#     return outerSum\n",
    "\n",
    "def hamiltonian(bitstrings, f):\n",
    "    n = len(bitstrings[0])\n",
    "    outerSum = np.zeros((2**(2*n), 2**(2*n)))\n",
    "    for x in bitstrings:\n",
    "        v = bitstringToVector(x)\n",
    "        innerSum = np.zeros((2**n, 2**n))\n",
    "        for y in bitstrings:\n",
    "            w = bitstringToVector(y)\n",
    "            innerSum += hammingDistance(y, f[x]) * np.outer(w, w)\n",
    "        outerSum += np.kron(np.outer(v, v), innerSum)\n",
    "    return outerSum\n",
    "\n",
    "bitstrings = generateBitstrings(2)\n",
    "print(bitstrings)\n",
    "f = generateF(bitstrings, bitstrings[-1])\n",
    "print(f)\n",
    "qubo = hamiltonian(bitstrings, f)\n",
    "# qubo = hamiltonian(2, verbose=True)\n",
    "qubo"
   ]
  },
  {
   "cell_type": "code",
   "execution_count": 8,
   "metadata": {},
   "outputs": [],
   "source": [
    "def solveQubo(q, n):\n",
    "    mins = set()\n",
    "    minExpectation = np.inf\n",
    "    for i in range(2**(2**(2*n))):\n",
    "        x = f'{i:0{2**(2*n)}b}'\n",
    "        v = np.array(list(map(int, list(x))))\n",
    "        expectation = v.T @ q @ v\n",
    "        # if expectation <= 0:\n",
    "        #     print(x, expectation)\n",
    "        if expectation < minExpectation:\n",
    "            minExpectation = expectation\n",
    "            mins = set()\n",
    "            mins.add(x)\n",
    "        if expectation == minExpectation:\n",
    "            mins.add(x)\n",
    "    return mins, minExpectation\n",
    "\n",
    "def interpretResults(results, n):\n",
    "    candidates = set()\n",
    "    decodedResults = set()\n",
    "    for result in results:\n",
    "        indices = list(find_all(result, '1'))\n",
    "        for index in indices:\n",
    "            if index not in candidates:\n",
    "                print(f'{index:0{2*n}b}')\n",
    "                candidates.add(index)\n",
    "            decodedResults.add(f'{index:0{2*n}b}'[n:])\n",
    "    return decodedResults\n",
    "\n",
    "def find_all(a_str, sub):\n",
    "    start = 0\n",
    "    while True:\n",
    "        start = a_str.find(sub, start)\n",
    "        if start == -1: return\n",
    "        yield start\n",
    "        start += len(sub)"
   ]
  },
  {
   "cell_type": "code",
   "execution_count": 9,
   "metadata": {},
   "outputs": [
    {
     "data": {
      "text/plain": [
       "{'0000000000000000',\n",
       " '0000000000001000',\n",
       " '0000000000100000',\n",
       " '0000000000101000',\n",
       " '0000001000000000',\n",
       " '0000001000001000',\n",
       " '0000001000100000',\n",
       " '0000001000101000',\n",
       " '1000000000000000',\n",
       " '1000000000001000',\n",
       " '1000000000100000',\n",
       " '1000000000101000',\n",
       " '1000001000000000',\n",
       " '1000001000001000',\n",
       " '1000001000100000',\n",
       " '1000001000101000'}"
      ]
     },
     "execution_count": 9,
     "metadata": {},
     "output_type": "execute_result"
    }
   ],
   "source": [
    "results, expectation = solveQubo(qubo, 2)\n",
    "results"
   ]
  },
  {
   "cell_type": "code",
   "execution_count": 10,
   "metadata": {},
   "outputs": [
    {
     "name": "stdout",
     "output_type": "stream",
     "text": [
      "1010\n",
      "1100\n",
      "0000\n",
      "0110\n"
     ]
    },
    {
     "data": {
      "text/plain": [
       "{'00', '10'}"
      ]
     },
     "execution_count": 10,
     "metadata": {},
     "output_type": "execute_result"
    }
   ],
   "source": [
    "interpretResults(results, 2)"
   ]
  }
 ],
 "metadata": {
  "kernelspec": {
   "display_name": "research",
   "language": "python",
   "name": "python3"
  },
  "language_info": {
   "codemirror_mode": {
    "name": "ipython",
    "version": 3
   },
   "file_extension": ".py",
   "mimetype": "text/x-python",
   "name": "python",
   "nbconvert_exporter": "python",
   "pygments_lexer": "ipython3",
   "version": "3.12.5"
  }
 },
 "nbformat": 4,
 "nbformat_minor": 2
}
