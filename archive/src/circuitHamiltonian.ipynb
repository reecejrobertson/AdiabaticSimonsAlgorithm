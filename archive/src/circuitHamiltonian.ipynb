{
 "cells": [
  {
   "cell_type": "markdown",
   "metadata": {},
   "source": [
    "# Imports"
   ]
  },
  {
   "cell_type": "code",
   "execution_count": 1,
   "metadata": {},
   "outputs": [],
   "source": [
    "import numpy as np\n",
    "from qiskit_aer import Aer\n",
    "from qiskit import QuantumCircuit\n",
    "from IPython.display import display\n",
    "from qiskit.quantum_info import Operator"
   ]
  },
  {
   "cell_type": "markdown",
   "metadata": {},
   "source": [
    "# Functions"
   ]
  },
  {
   "cell_type": "code",
   "execution_count": 2,
   "metadata": {},
   "outputs": [],
   "source": [
    "def generateCircuit(n, draw=True):\n",
    "    circuit = QuantumCircuit(2*n)\n",
    "    for m in range(n):\n",
    "        circuit.h(m)\n",
    "    circuit.barrier()\n",
    "    for m in range(n):\n",
    "        circuit.cx(m, n+m)\n",
    "    for m in range(n):\n",
    "        circuit.cx(0, n+m)\n",
    "        # break   # Uncomment for \"simple\" oracle.\n",
    "    circuit.barrier()\n",
    "    for m in range(n):\n",
    "        circuit.h(m)\n",
    "    if draw:\n",
    "        circuit.draw('mpl')\n",
    "    return circuit\n",
    "\n",
    "def operatorFromCircuit(circuit, draw=True):\n",
    "    unitary = Operator.from_circuit(circuit)\n",
    "    if draw:\n",
    "        display(unitary.draw('latex', max_size=1000))\n",
    "    return unitary.to_matrix()\n",
    "\n",
    "def solveQubo(q, n):\n",
    "    mins = set()\n",
    "    minExpectation = np.inf\n",
    "    for i in range(2**(2**(2*n))):\n",
    "        x = f'{i:0{2**(2*n)}b}'\n",
    "        v = np.array(list(map(int, list(x))))\n",
    "        expectation = v.T @ q @ v\n",
    "        if expectation < minExpectation:\n",
    "            minExpectation = expectation\n",
    "            mins = set()\n",
    "            mins.add(x)\n",
    "        if expectation == minExpectation:\n",
    "            mins.add(x)\n",
    "    return mins, minExpectation\n",
    "\n",
    "def interpretResults(results, n):\n",
    "    candidates = set()\n",
    "    decodedResults = set()\n",
    "    for result in results:\n",
    "        indices = list(find_all(result, '1'))\n",
    "        for index in indices:\n",
    "            if index not in candidates:\n",
    "                print(f'{index:0{2*n}b}')\n",
    "                candidates.add(index)\n",
    "            decodedResults.add(f'{index:0{2*n}b}'[n:])\n",
    "    return decodedResults\n",
    "\n",
    "def find_all(a_str, sub):\n",
    "    start = 0\n",
    "    while True:\n",
    "        start = a_str.find(sub, start)\n",
    "        if start == -1: return\n",
    "        yield start\n",
    "        start += len(sub)"
   ]
  },
  {
   "cell_type": "markdown",
   "metadata": {},
   "source": [
    "# Constants"
   ]
  },
  {
   "cell_type": "code",
   "execution_count": 3,
   "metadata": {},
   "outputs": [
    {
     "data": {
      "image/png": "[encoded data removed]",
      "text/plain": [
       "<Figure size 789.163x367.889 with 1 Axes>"
      ]
     },
     "execution_count": 3,
     "metadata": {},
     "output_type": "execute_result"
    }
   ],
   "source": [
    "n = 2\n",
    "circ = generateCircuit(n)\n",
    "circ.draw('mpl')"
   ]
  },
  {
   "cell_type": "code",
   "execution_count": 4,
   "metadata": {},
   "outputs": [
    {
     "data": {
      "text/latex": [
       "$$\n",
       "\n",
       "\\begin{bmatrix}\n",
       "\\frac{1}{2} & 0 & 0 & \\frac{1}{2} & 0 & 0 & 0 & 0 & \\frac{1}{2} & 0 & 0 & - \\frac{1}{2} & 0 & 0 & 0 & 0  \\\\\n",
       " 0 & \\frac{1}{2} & \\frac{1}{2} & 0 & 0 & 0 & 0 & 0 & 0 & \\frac{1}{2} & - \\frac{1}{2} & 0 & 0 & 0 & 0 & 0  \\\\\n",
       " 0 & \\frac{1}{2} & \\frac{1}{2} & 0 & 0 & 0 & 0 & 0 & 0 & - \\frac{1}{2} & \\frac{1}{2} & 0 & 0 & 0 & 0 & 0  \\\\\n",
       " \\frac{1}{2} & 0 & 0 & \\frac{1}{2} & 0 & 0 & 0 & 0 & - \\frac{1}{2} & 0 & 0 & \\frac{1}{2} & 0 & 0 & 0 & 0  \\\\\n",
       " 0 & 0 & 0 & 0 & \\frac{1}{2} & 0 & 0 & \\frac{1}{2} & 0 & 0 & 0 & 0 & \\frac{1}{2} & 0 & 0 & - \\frac{1}{2}  \\\\\n",
       " 0 & 0 & 0 & 0 & 0 & \\frac{1}{2} & \\frac{1}{2} & 0 & 0 & 0 & 0 & 0 & 0 & \\frac{1}{2} & - \\frac{1}{2} & 0  \\\\\n",
       " 0 & 0 & 0 & 0 & 0 & \\frac{1}{2} & \\frac{1}{2} & 0 & 0 & 0 & 0 & 0 & 0 & - \\frac{1}{2} & \\frac{1}{2} & 0  \\\\\n",
       " 0 & 0 & 0 & 0 & \\frac{1}{2} & 0 & 0 & \\frac{1}{2} & 0 & 0 & 0 & 0 & - \\frac{1}{2} & 0 & 0 & \\frac{1}{2}  \\\\\n",
       " \\frac{1}{2} & 0 & 0 & - \\frac{1}{2} & 0 & 0 & 0 & 0 & \\frac{1}{2} & 0 & 0 & \\frac{1}{2} & 0 & 0 & 0 & 0  \\\\\n",
       " 0 & \\frac{1}{2} & - \\frac{1}{2} & 0 & 0 & 0 & 0 & 0 & 0 & \\frac{1}{2} & \\frac{1}{2} & 0 & 0 & 0 & 0 & 0  \\\\\n",
       " 0 & - \\frac{1}{2} & \\frac{1}{2} & 0 & 0 & 0 & 0 & 0 & 0 & \\frac{1}{2} & \\frac{1}{2} & 0 & 0 & 0 & 0 & 0  \\\\\n",
       " - \\frac{1}{2} & 0 & 0 & \\frac{1}{2} & 0 & 0 & 0 & 0 & \\frac{1}{2} & 0 & 0 & \\frac{1}{2} & 0 & 0 & 0 & 0  \\\\\n",
       " 0 & 0 & 0 & 0 & \\frac{1}{2} & 0 & 0 & - \\frac{1}{2} & 0 & 0 & 0 & 0 & \\frac{1}{2} & 0 & 0 & \\frac{1}{2}  \\\\\n",
       " 0 & 0 & 0 & 0 & 0 & \\frac{1}{2} & - \\frac{1}{2} & 0 & 0 & 0 & 0 & 0 & 0 & \\frac{1}{2} & \\frac{1}{2} & 0  \\\\\n",
       " 0 & 0 & 0 & 0 & 0 & - \\frac{1}{2} & \\frac{1}{2} & 0 & 0 & 0 & 0 & 0 & 0 & \\frac{1}{2} & \\frac{1}{2} & 0  \\\\\n",
       " 0 & 0 & 0 & 0 & - \\frac{1}{2} & 0 & 0 & \\frac{1}{2} & 0 & 0 & 0 & 0 & \\frac{1}{2} & 0 & 0 & \\frac{1}{2}  \\\\\n",
       " \\end{bmatrix}\n",
       "$$"
      ],
      "text/plain": [
       "<IPython.core.display.Latex object>"
      ]
     },
     "metadata": {},
     "output_type": "display_data"
    }
   ],
   "source": [
    "q = operatorFromCircuit(circ, True)"
   ]
  },
  {
   "cell_type": "markdown",
   "metadata": {},
   "source": [
    "# Solve QUBO"
   ]
  },
  {
   "cell_type": "code",
   "execution_count": 5,
   "metadata": {},
   "outputs": [
    {
     "name": "stdout",
     "output_type": "stream",
     "text": [
      "0000000000000000\n",
      "0000000100001000\n",
      "0000001000000100\n",
      "0000001100001100\n",
      "0000010000000010\n",
      "0000010100001010\n",
      "0000100000000001\n",
      "0000101000000101\n",
      "0000110000000011\n",
      "0001000010000000\n",
      "0001000110001000\n",
      "0001001010000100\n",
      "0001001110001100\n",
      "0001010010000010\n",
      "0001010110001010\n",
      "0001100010000001\n",
      "0001101010000101\n",
      "0001110010000011\n",
      "0010000001000000\n",
      "0010000101001000\n",
      "0010001001000100\n",
      "0010001101001100\n",
      "0010010001000010\n",
      "0010010101001010\n",
      "0010100001000001\n",
      "0010101001000101\n",
      "0010110001000011\n",
      "0011000011000000\n",
      "0011000111001000\n",
      "0011001011000100\n",
      "0011001111001100\n",
      "0011010011000010\n",
      "0011010111001010\n",
      "0011100011000001\n",
      "0011101011000101\n",
      "0011110011000011\n",
      "0100000000100000\n",
      "0100000100101000\n",
      "0100001000100100\n",
      "0100001100101100\n",
      "0100010000100010\n",
      "0100010100101010\n",
      "0100100000100001\n",
      "0100101000100101\n",
      "0100110000100011\n",
      "0101000010100000\n",
      "0101000110101000\n",
      "0101001010100100\n",
      "0101001110101100\n",
      "0101010010100010\n",
      "0101010110101010\n",
      "0101100010100001\n",
      "0101101010100101\n",
      "0101110010100011\n",
      "1000000000010000\n",
      "1000000100011000\n",
      "1000001000010100\n",
      "1000001100011100\n",
      "1000010000010010\n",
      "1000010100011010\n",
      "1000100000010001\n",
      "1000101000010101\n",
      "1000110000010011\n",
      "1010000001010000\n",
      "1010000101011000\n",
      "1010001001010100\n",
      "1010001101011100\n",
      "1010010001010010\n",
      "1010010101011010\n",
      "1010100001010001\n",
      "1010101001010101\n",
      "1010110001010011\n",
      "1100000000110000\n",
      "1100000100111000\n",
      "1100001000110100\n",
      "1100001100111100\n",
      "1100010000110010\n",
      "1100010100111010\n",
      "1100100000110001\n",
      "1100101000110101\n",
      "1100110000110011\n"
     ]
    }
   ],
   "source": [
    "results, minExpectation = solveQubo(q, n)\n",
    "sortedResults = sorted(results, key=lambda x: int(x, 2))\n",
    "for x in sortedResults:\n",
    "    print(x)"
   ]
  },
  {
   "cell_type": "markdown",
   "metadata": {},
   "source": [
    "# Expected Solution"
   ]
  },
  {
   "cell_type": "code",
   "execution_count": 6,
   "metadata": {},
   "outputs": [
    {
     "name": "stdout",
     "output_type": "stream",
     "text": [
      "[ 0.5+0.j  0. +0.j  0. +0.j  0.5+0.j  0. +0.j  0. +0.j  0. +0.j  0. +0.j\n",
      "  0.5+0.j  0. +0.j  0. +0.j -0.5+0.j  0. +0.j  0. +0.j  0. +0.j  0. +0.j]\n"
     ]
    }
   ],
   "source": [
    "x = np.array([\n",
    "    1,0,0,0,0,0,0,0,0,0,0,0,0,0,0,0\n",
    "])\n",
    "print(x@q)\n",
    "# 0, 3, 8, 11\n",
    "# 0000 = 0\n",
    "# 0011 = 3\n",
    "# 1000 = 8\n",
    "# 1011 = 11"
   ]
  },
  {
   "cell_type": "markdown",
   "metadata": {},
   "source": [
    "# Experiments"
   ]
  },
  {
   "cell_type": "code",
   "execution_count": 7,
   "metadata": {},
   "outputs": [
    {
     "name": "stdout",
     "output_type": "stream",
     "text": [
      "[ 1.-9.24446373e-33j -1.+3.08148791e-33j  1.+0.00000000e+00j\n",
      " -1.+0.00000000e+00j  1.+0.00000000e+00j  1.+6.16297582e-33j\n",
      " -1.-3.08148791e-33j  1.+0.00000000e+00j -1.+0.00000000e+00j\n",
      "  1.+0.00000000e+00j  1.-2.77555756e-16j  1.+1.66533454e-16j\n",
      "  1.+0.00000000e+00j  1.+0.00000000e+00j  1.+0.00000000e+00j\n",
      "  1.+0.00000000e+00j]\n"
     ]
    }
   ],
   "source": [
    "e, U = np.linalg.eig(q)\n",
    "print(e)"
   ]
  },
  {
   "cell_type": "code",
   "execution_count": 8,
   "metadata": {},
   "outputs": [
    {
     "name": "stdout",
     "output_type": "stream",
     "text": [
      "[[ 1.  0.  0.  0.  0.  0.  0.  0.  0.  0.  0.  0.  0.  0.  0.  0.]\n",
      " [ 0. -1.  0.  0.  0.  0.  0.  0.  0.  0.  0.  0.  0.  0.  0.  0.]\n",
      " [ 0.  0.  1.  0.  0.  0.  0.  0.  0.  0.  0.  0.  0.  0.  0.  0.]\n",
      " [ 0.  0.  0. -1.  0.  0.  0.  0.  0.  0.  0.  0.  0.  0.  0.  0.]\n",
      " [ 0.  0.  0.  0.  1.  0.  0.  0.  0.  0.  0.  0.  0.  0.  0.  0.]\n",
      " [ 0.  0.  0.  0.  0.  1.  0.  0.  0.  0.  0.  0.  0.  0.  0.  0.]\n",
      " [ 0.  0.  0.  0.  0.  0. -1.  0.  0.  0.  0.  0.  0.  0.  0.  0.]\n",
      " [ 0.  0.  0.  0.  0.  0.  0.  1.  0.  0.  0.  0.  0.  0.  0.  0.]\n",
      " [ 0.  0.  0.  0.  0.  0.  0.  0. -1.  0.  0.  0.  0.  0.  0.  0.]\n",
      " [ 0.  0.  0.  0.  0.  0.  0.  0.  0.  1.  0.  0.  0.  0.  0.  0.]\n",
      " [ 0.  0.  0.  0.  0.  0.  0.  0.  0.  0.  1.  0.  0.  0.  0.  0.]\n",
      " [ 0.  0.  0.  0.  0.  0.  0.  0.  0.  0.  0.  1.  0.  0.  0.  0.]\n",
      " [ 0.  0.  0.  0.  0.  0.  0.  0.  0.  0.  0.  0.  1.  0.  0.  0.]\n",
      " [ 0.  0.  0.  0.  0.  0.  0.  0.  0.  0.  0.  0.  0.  1.  0.  0.]\n",
      " [ 0.  0.  0.  0.  0.  0.  0.  0.  0.  0.  0.  0.  0.  0.  1.  0.]\n",
      " [ 0.  0.  0.  0.  0.  0.  0.  0.  0.  0.  0.  0.  0.  0.  0.  1.]]\n"
     ]
    }
   ],
   "source": [
    "d = np.real(np.diag(np.round(e, 2)))\n",
    "print(d)"
   ]
  },
  {
   "cell_type": "code",
   "execution_count": 9,
   "metadata": {},
   "outputs": [
    {
     "name": "stdout",
     "output_type": "stream",
     "text": [
      "-4.0\n",
      "{'0101001010000000'}\n",
      "0001\n",
      "0011\n",
      "0110\n",
      "1000\n"
     ]
    },
    {
     "data": {
      "text/plain": [
       "{'00', '01', '10', '11'}"
      ]
     },
     "execution_count": 9,
     "metadata": {},
     "output_type": "execute_result"
    }
   ],
   "source": [
    "results, minExpectation = solveQubo(d, n)\n",
    "print(minExpectation)\n",
    "print(results)\n",
    "interpretResults(results, n)"
   ]
  },
  {
   "cell_type": "code",
   "execution_count": 10,
   "metadata": {},
   "outputs": [
    {
     "name": "stdout",
     "output_type": "stream",
     "text": [
      "-4\n",
      "{'1001000010010000'}\n",
      "0000\n",
      "0011\n",
      "1000\n",
      "1011\n"
     ]
    },
    {
     "data": {
      "text/plain": [
       "{'00', '11'}"
      ]
     },
     "execution_count": 10,
     "metadata": {},
     "output_type": "execute_result"
    }
   ],
   "source": [
    "eExpected = np.diag([-1,1,1,-1,1,1,1,1,-1,1,1,-1,1,1,1,1])\n",
    "results, minExpectation = solveQubo(eExpected, n)\n",
    "print(minExpectation)\n",
    "print(results)\n",
    "interpretResults(results, n)"
   ]
  },
  {
   "cell_type": "markdown",
   "metadata": {},
   "source": [
    "# Experiments"
   ]
  },
  {
   "cell_type": "code",
   "execution_count": 11,
   "metadata": {},
   "outputs": [
    {
     "name": "stdout",
     "output_type": "stream",
     "text": [
      "[[ 0.  1. -0. -0.]\n",
      " [-1. -0. -1.  0.]\n",
      " [-0.  0.  0.  1.]\n",
      " [-1.  0.  1. -0.]]\n"
     ]
    }
   ],
   "source": [
    "evals = e[np.real(e) < 0]\n",
    "evecs = U[np.real(e) < 0]\n",
    "decomp = np.linalg.qr(evecs)\n",
    "print(np.real(np.round(decomp[0])))"
   ]
  },
  {
   "cell_type": "code",
   "execution_count": 12,
   "metadata": {},
   "outputs": [
    {
     "name": "stdout",
     "output_type": "stream",
     "text": [
      "[[1. 0. 0. 0.]\n",
      " [0. 1. 0. 0.]\n",
      " [0. 0. 1. 0.]\n",
      " [0. 0. 0. 1.]]\n"
     ]
    }
   ],
   "source": [
    "evecs2 = np.array([\n",
    "    [1,0,0,0,0,0,0,0,0,0,0,0,0,0,0,0],\n",
    "    [0,0,0,1,0,0,0,0,0,0,0,0,0,0,0,0],\n",
    "    [0,0,0,0,0,0,0,0,1,0,0,0,0,0,0,0],\n",
    "    [0,0,0,0,0,0,0,0,0,0,0,1,0,0,0,0],\n",
    "])\n",
    "decomp2 = np.linalg.qr(evecs2)\n",
    "print(decomp2[0])"
   ]
  }
 ],
 "metadata": {
  "kernelspec": {
   "display_name": "research",
   "language": "python",
   "name": "python3"
  },
  "language_info": {
   "codemirror_mode": {
    "name": "ipython",
    "version": 3
   },
   "file_extension": ".py",
   "mimetype": "text/x-python",
   "name": "python",
   "nbconvert_exporter": "python",
   "pygments_lexer": "ipython3",
   "version": "3.12.5"
  }
 },
 "nbformat": 4,
 "nbformat_minor": 2
}
