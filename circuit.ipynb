{
 "cells": [
  {
   "cell_type": "code",
   "execution_count": 1,
   "metadata": {},
   "outputs": [],
   "source": [
    "import numpy as np\n",
    "from qiskit_aer import Aer\n",
    "from qiskit import QuantumCircuit\n",
    "from qiskit.quantum_info import Operator"
   ]
  },
  {
   "cell_type": "code",
   "execution_count": 2,
   "metadata": {},
   "outputs": [],
   "source": [
    "def generateCircuit(n, draw=True):\n",
    "    circuit = QuantumCircuit(2*n)\n",
    "    for m in range(n):\n",
    "        circuit.h(m)\n",
    "    circuit.barrier()\n",
    "    for m in range(n):\n",
    "        circuit.cx(m, n+m)\n",
    "    for m in range(n):\n",
    "        circuit.cx(0, n+m)\n",
    "        # break   # Uncomment for \"simple\" oracle.\n",
    "    circuit.barrier()\n",
    "    for m in range(n):\n",
    "        circuit.h(m)\n",
    "    if draw:\n",
    "        circuit.draw('mpl')\n",
    "    return circuit"
   ]
  },
  {
   "cell_type": "code",
   "execution_count": 3,
   "metadata": {},
   "outputs": [],
   "source": [
    "def operatorFromCircuit(circuit, draw=True):\n",
    "    unitary = Operator.from_circuit(circuit)\n",
    "    if draw:\n",
    "        unitary.draw('latex', max_size=1000)\n",
    "    return unitary.to_matrix()"
   ]
  },
  {
   "cell_type": "code",
   "execution_count": 4,
   "metadata": {},
   "outputs": [],
   "source": [
    "def solveQubo(q, n):\n",
    "    mins = []\n",
    "    for i in range(2**(2**(2*n))):\n",
    "        x = f'{i:0{2**(2*n)}b}'\n",
    "        v = np.array(list(map(int, list(x))))\n",
    "        expectation = v.T @ q @ v\n",
    "        if expectation == 0:\n",
    "            mins.append(x)\n",
    "    return mins"
   ]
  },
  {
   "cell_type": "code",
   "execution_count": 5,
   "metadata": {},
   "outputs": [],
   "source": [
    "def find_all(a_str, sub):\n",
    "    start = 0\n",
    "    while True:\n",
    "        start = a_str.find(sub, start)\n",
    "        if start == -1: return\n",
    "        yield start\n",
    "        start += len(sub)"
   ]
  },
  {
   "cell_type": "code",
   "execution_count": 9,
   "metadata": {},
   "outputs": [],
   "source": [
    "def interpretResults(results, n):\n",
    "    candidates = set()\n",
    "    decodedResults = set()\n",
    "    for result in results:\n",
    "        indices = list(find_all(result, '1'))\n",
    "        for index in indices:\n",
    "            if index not in candidates:\n",
    "                print(f'{index:0{2*n}b}')\n",
    "                candidates.add(index)\n",
    "            decodedResults.add(f'{index:0{2*n}b}'[n:])\n",
    "    return decodedResults"
   ]
  },
  {
   "cell_type": "code",
   "execution_count": 10,
   "metadata": {},
   "outputs": [
    {
     "name": "stdout",
     "output_type": "stream",
     "text": [
      "0111\n",
      "1100\n",
      "0110\n",
      "1101\n",
      "0101\n",
      "1110\n",
      "0100\n",
      "1111\n",
      "0011\n",
      "1000\n",
      "0010\n",
      "1001\n",
      "0001\n",
      "1010\n",
      "0000\n",
      "1011\n"
     ]
    },
    {
     "data": {
      "text/plain": [
       "{'00', '01', '10', '11'}"
      ]
     },
     "execution_count": 10,
     "metadata": {},
     "output_type": "execute_result"
    }
   ],
   "source": [
    "n = 2\n",
    "circ = generateCircuit(n)\n",
    "q = operatorFromCircuit(circ)\n",
    "results = solveQubo(q, n)\n",
    "interpretResults(results, n)"
   ]
  },
  {
   "cell_type": "code",
   "execution_count": null,
   "metadata": {},
   "outputs": [],
   "source": []
  }
 ],
 "metadata": {
  "kernelspec": {
   "display_name": "research",
   "language": "python",
   "name": "python3"
  },
  "language_info": {
   "codemirror_mode": {
    "name": "ipython",
    "version": 3
   },
   "file_extension": ".py",
   "mimetype": "text/x-python",
   "name": "python",
   "nbconvert_exporter": "python",
   "pygments_lexer": "ipython3",
   "version": "3.12.5"
  }
 },
 "nbformat": 4,
 "nbformat_minor": 2
}
