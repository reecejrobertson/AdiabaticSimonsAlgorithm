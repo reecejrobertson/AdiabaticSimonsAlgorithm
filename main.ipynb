{
 "cells": [
  {
   "cell_type": "code",
   "execution_count": 1,
   "metadata": {},
   "outputs": [],
   "source": [
    "import numpy as np"
   ]
  },
  {
   "cell_type": "code",
   "execution_count": 2,
   "metadata": {},
   "outputs": [],
   "source": [
    "# TODO: Code can be significantly optimized if this direction proves promising.\n",
    "# This is because the matrix is block diagonal with the hamming distances\n",
    "# forming the entries along the diagonal. Can be quickly generated using two\n",
    "# nested for loops."
   ]
  },
  {
   "cell_type": "code",
   "execution_count": 3,
   "metadata": {},
   "outputs": [],
   "source": [
    "def generateBitstrings(n):\n",
    "    bitstrings = []\n",
    "    for i in range(2**n):\n",
    "        bitstrings.append(f'{i:0{n}b}')\n",
    "    return bitstrings\n",
    "\n",
    "# print(generateBitstrings(3))"
   ]
  },
  {
   "cell_type": "code",
   "execution_count": 4,
   "metadata": {},
   "outputs": [],
   "source": [
    "def addBitstrings(x, y):\n",
    "    z = []\n",
    "    for i, bit in enumerate(x):\n",
    "        z.append(str((int(bit) + int(y[i])) % 2))\n",
    "    return ''.join(z)\n",
    "\n",
    "# print(addBitstrings('0011', '0101'))"
   ]
  },
  {
   "cell_type": "code",
   "execution_count": 5,
   "metadata": {},
   "outputs": [],
   "source": [
    "# def invertBitstring(x):\n",
    "#     y = []\n",
    "#     for bit in x:\n",
    "#         y.append('1' if bit == '0' else '0')\n",
    "#     return ''.join(y)\n",
    "\n",
    "# print(invertBitstring('0011'))"
   ]
  },
  {
   "cell_type": "code",
   "execution_count": 6,
   "metadata": {},
   "outputs": [],
   "source": [
    "def generateF(bitstrings, s):\n",
    "    f = {}\n",
    "    for x in bitstrings:\n",
    "        if x not in f:\n",
    "            y = x if x[-1] == '0' else addBitstrings(x, s)\n",
    "            f[y] = y\n",
    "            f[addBitstrings(y, s)] = y\n",
    "    return f\n",
    "\n",
    "# print(generateF(generateBitstrings(3), '111'))"
   ]
  },
  {
   "cell_type": "code",
   "execution_count": 7,
   "metadata": {},
   "outputs": [],
   "source": [
    "def hammingDistance(x, y):\n",
    "    dist = 0\n",
    "    for i, bit in enumerate(x):\n",
    "        if bit != y[i]:\n",
    "            dist += 1\n",
    "    return dist\n",
    "\n",
    "# print(hammingDistance('0011', '0101'))"
   ]
  },
  {
   "cell_type": "code",
   "execution_count": 8,
   "metadata": {},
   "outputs": [],
   "source": [
    "def bitstringToVector(x):\n",
    "    v = np.zeros(2**len(x))\n",
    "    v[int(x, 2)] = 1\n",
    "    return v\n",
    "\n",
    "# print(bitstringToVector('101'))"
   ]
  },
  {
   "cell_type": "code",
   "execution_count": 9,
   "metadata": {},
   "outputs": [],
   "source": [
    "def hamiltonian(bitstrings, f):\n",
    "    n = len(bitstrings[0])\n",
    "    outerSum = np.zeros((2**(2*n), 2**(2*n)))\n",
    "    for x in bitstrings:\n",
    "        v = bitstringToVector(x)\n",
    "        innerSum = np.zeros((2**n, 2**n))\n",
    "        for y in bitstrings:\n",
    "            w = bitstringToVector(y)\n",
    "            innerSum += hammingDistance(y, f[x]) * np.outer(w, w)\n",
    "        outerSum += np.kron(np.outer(v, v), innerSum)\n",
    "    return outerSum\n",
    "\n",
    "# bitstrings = generateBitstrings(2)\n",
    "# print(bitstrings)\n",
    "# f = generateF(bitstrings, bitstrings[-1])\n",
    "# print(f)\n",
    "# hamiltonian(bitstrings, f)"
   ]
  },
  {
   "cell_type": "code",
   "execution_count": 10,
   "metadata": {},
   "outputs": [
    {
     "name": "stdout",
     "output_type": "stream",
     "text": [
      "[[0. 0. 0. 0. 0. 0. 0. 0. 0. 0. 0. 0. 0. 0. 0. 0.]\n",
      " [0. 1. 0. 0. 0. 0. 0. 0. 0. 0. 0. 0. 0. 0. 0. 0.]\n",
      " [0. 0. 1. 0. 0. 0. 0. 0. 0. 0. 0. 0. 0. 0. 0. 0.]\n",
      " [0. 0. 0. 2. 0. 0. 0. 0. 0. 0. 0. 0. 0. 0. 0. 0.]\n",
      " [0. 0. 0. 0. 1. 0. 0. 0. 0. 0. 0. 0. 0. 0. 0. 0.]\n",
      " [0. 0. 0. 0. 0. 2. 0. 0. 0. 0. 0. 0. 0. 0. 0. 0.]\n",
      " [0. 0. 0. 0. 0. 0. 0. 0. 0. 0. 0. 0. 0. 0. 0. 0.]\n",
      " [0. 0. 0. 0. 0. 0. 0. 1. 0. 0. 0. 0. 0. 0. 0. 0.]\n",
      " [0. 0. 0. 0. 0. 0. 0. 0. 1. 0. 0. 0. 0. 0. 0. 0.]\n",
      " [0. 0. 0. 0. 0. 0. 0. 0. 0. 2. 0. 0. 0. 0. 0. 0.]\n",
      " [0. 0. 0. 0. 0. 0. 0. 0. 0. 0. 0. 0. 0. 0. 0. 0.]\n",
      " [0. 0. 0. 0. 0. 0. 0. 0. 0. 0. 0. 1. 0. 0. 0. 0.]\n",
      " [0. 0. 0. 0. 0. 0. 0. 0. 0. 0. 0. 0. 0. 0. 0. 0.]\n",
      " [0. 0. 0. 0. 0. 0. 0. 0. 0. 0. 0. 0. 0. 1. 0. 0.]\n",
      " [0. 0. 0. 0. 0. 0. 0. 0. 0. 0. 0. 0. 0. 0. 1. 0.]\n",
      " [0. 0. 0. 0. 0. 0. 0. 0. 0. 0. 0. 0. 0. 0. 0. 2.]]\n",
      "[[0. 0. 0. ... 0. 0. 0.]\n",
      " [0. 1. 0. ... 0. 0. 0.]\n",
      " [0. 0. 1. ... 0. 0. 0.]\n",
      " ...\n",
      " [0. 0. 0. ... 2. 0. 0.]\n",
      " [0. 0. 0. ... 0. 2. 0.]\n",
      " [0. 0. 0. ... 0. 0. 3.]]\n",
      "[[0. 0. 0. ... 0. 0. 0.]\n",
      " [0. 1. 0. ... 0. 0. 0.]\n",
      " [0. 0. 1. ... 0. 0. 0.]\n",
      " ...\n",
      " [0. 0. 0. ... 3. 0. 0.]\n",
      " [0. 0. 0. ... 0. 3. 0.]\n",
      " [0. 0. 0. ... 0. 0. 4.]]\n",
      "[[0. 0. 0. ... 0. 0. 0.]\n",
      " [0. 1. 0. ... 0. 0. 0.]\n",
      " [0. 0. 1. ... 0. 0. 0.]\n",
      " ...\n",
      " [0. 0. 0. ... 4. 0. 0.]\n",
      " [0. 0. 0. ... 0. 4. 0.]\n",
      " [0. 0. 0. ... 0. 0. 5.]]\n"
     ]
    }
   ],
   "source": [
    "for n in range(2, 6):\n",
    "    bitstrings = generateBitstrings(n)\n",
    "    f = generateF(bitstrings, bitstrings[-1])\n",
    "    print(hamiltonian(bitstrings, f))"
   ]
  },
  {
   "cell_type": "code",
   "execution_count": 20,
   "metadata": {},
   "outputs": [],
   "source": [
    "def solveQubo(q, n):\n",
    "    mins = []\n",
    "    for i in range(2**(2*n)):\n",
    "        v = np.zeros(2**(2*n), dtype=int)\n",
    "        v[i] = 1\n",
    "        x = ''.join(list(map(str, v.tolist())))\n",
    "        print(x, v.T @ q @ v)\n",
    "        if v.T @ q @ v == 0:\n",
    "            mins.append(x)\n",
    "    return mins\n",
    "\n",
    "# n = 3\n",
    "# bitstrings = generateBitstrings(n)\n",
    "# f = generateF(bitstrings, bitstrings[-1])\n",
    "# q = hamiltonian(bitstrings, f)\n",
    "# results = solveQubo(q, n)\n",
    "# print(results)\n",
    "\n",
    "# TODO: Verify that q^2 gives the same results"
   ]
  },
  {
   "cell_type": "code",
   "execution_count": 23,
   "metadata": {},
   "outputs": [],
   "source": [
    "def interpretResults(results, n):\n",
    "    decodedResults = set()\n",
    "    for result in results:\n",
    "        index = result.find('1')\n",
    "        # index = result[::-1].find('1')\n",
    "        print(f'{index:0{2*n}b}')\n",
    "        decodedResults.add(f'{index:0{2*n}b}'[n:])\n",
    "    return decodedResults\n",
    "\n",
    "# interpretResults(results, n) #Bug here...should be 11 and 00"
   ]
  },
  {
   "cell_type": "code",
   "execution_count": 24,
   "metadata": {},
   "outputs": [
    {
     "name": "stdout",
     "output_type": "stream",
     "text": [
      "1000000000000000 0.0\n",
      "0100000000000000 1.0\n",
      "0010000000000000 1.0\n",
      "0001000000000000 2.0\n",
      "0000100000000000 1.0\n",
      "0000010000000000 2.0\n",
      "0000001000000000 0.0\n",
      "0000000100000000 1.0\n",
      "0000000010000000 1.0\n",
      "0000000001000000 2.0\n",
      "0000000000100000 0.0\n",
      "0000000000010000 1.0\n",
      "0000000000001000 0.0\n",
      "0000000000000100 1.0\n",
      "0000000000000010 1.0\n",
      "0000000000000001 2.0\n",
      "0000\n",
      "0110\n",
      "1010\n",
      "1100\n"
     ]
    },
    {
     "data": {
      "text/plain": [
       "{'00', '10'}"
      ]
     },
     "execution_count": 24,
     "metadata": {},
     "output_type": "execute_result"
    }
   ],
   "source": [
    "n = 2\n",
    "bitstrings = generateBitstrings(n)\n",
    "f = generateF(bitstrings, bitstrings[-1])\n",
    "q = hamiltonian(bitstrings, f)\n",
    "results = solveQubo(q, n)\n",
    "interpretResults(results, n)"
   ]
  },
  {
   "cell_type": "code",
   "execution_count": 14,
   "metadata": {},
   "outputs": [],
   "source": [
    "# Interpreting this matrix directly as a QUBO does not appear to be working..."
   ]
  }
 ],
 "metadata": {
  "kernelspec": {
   "display_name": "projecteuler",
   "language": "python",
   "name": "python3"
  },
  "language_info": {
   "codemirror_mode": {
    "name": "ipython",
    "version": 3
   },
   "file_extension": ".py",
   "mimetype": "text/x-python",
   "name": "python",
   "nbconvert_exporter": "python",
   "pygments_lexer": "ipython3",
   "version": "3.12.5"
  }
 },
 "nbformat": 4,
 "nbformat_minor": 2
}
