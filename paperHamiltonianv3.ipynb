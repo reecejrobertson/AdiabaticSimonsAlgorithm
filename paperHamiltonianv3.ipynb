{
 "cells": [
  {
   "cell_type": "markdown",
   "metadata": {},
   "source": [
    "# Imports"
   ]
  },
  {
   "cell_type": "code",
   "execution_count": 1,
   "metadata": {},
   "outputs": [],
   "source": [
    "import numpy as np"
   ]
  },
  {
   "cell_type": "markdown",
   "metadata": {},
   "source": [
    "# Helper Functions"
   ]
  },
  {
   "cell_type": "code",
   "execution_count": 2,
   "metadata": {},
   "outputs": [],
   "source": [
    "def generateBitstrings(n):\n",
    "    bitstrings = []\n",
    "    for i in range(2**n):\n",
    "        bitstrings.append(f'{i:0{n}b}')\n",
    "    return bitstrings\n",
    "\n",
    "def addBitstrings(x, y):\n",
    "    z = []\n",
    "    for i, bit in enumerate(x):\n",
    "        z.append(str((int(bit) + int(y[i])) % 2))\n",
    "    return ''.join(z)\n",
    "\n",
    "def generateF(bitstrings, s):\n",
    "    f = {}\n",
    "    for x in bitstrings:\n",
    "        if x not in f:\n",
    "            y = x if x[-1] == '0' else addBitstrings(x, s)\n",
    "            f[y] = y\n",
    "            f[addBitstrings(y, s)] = y\n",
    "    return f\n",
    "\n",
    "def hammingDistance(x, y):\n",
    "    dist = 0\n",
    "    for i, bit in enumerate(x):\n",
    "        if bit != y[i]:\n",
    "            dist += 1\n",
    "    return dist\n",
    "\n",
    "def bitstringToVector(x):\n",
    "    v = np.zeros(2**len(x))\n",
    "    v[int(x, 2)] = 1\n",
    "    return v\n",
    "\n",
    "def find_all(a_str, sub):\n",
    "    start = 0\n",
    "    while True:\n",
    "        start = a_str.find(sub, start)\n",
    "        if start == -1: return\n",
    "        yield start\n",
    "        start += len(sub)"
   ]
  },
  {
   "cell_type": "markdown",
   "metadata": {},
   "source": [
    "# Create Hamiltonian"
   ]
  },
  {
   "cell_type": "code",
   "execution_count": 3,
   "metadata": {},
   "outputs": [
    {
     "name": "stdout",
     "output_type": "stream",
     "text": [
      "Outer bitstrings: ['00', '01', '10', '11']\n",
      "Inner bitstrings: ['0', '1']\n",
      "Function f(x):    {'00': '00', '11': '00', '10': '10', '01': '10'}\n"
     ]
    },
    {
     "data": {
      "text/plain": [
       "array([[0., 0., 0., 0., 0., 0., 0., 0.],\n",
       "       [0., 1., 0., 0., 0., 0., 0., 0.],\n",
       "       [0., 0., 1., 0., 0., 0., 0., 0.],\n",
       "       [0., 0., 0., 0., 0., 0., 0., 0.],\n",
       "       [0., 0., 0., 0., 1., 0., 0., 0.],\n",
       "       [0., 0., 0., 0., 0., 0., 0., 0.],\n",
       "       [0., 0., 0., 0., 0., 0., 0., 0.],\n",
       "       [0., 0., 0., 0., 0., 0., 0., 1.]])"
      ]
     },
     "execution_count": 3,
     "metadata": {},
     "output_type": "execute_result"
    }
   ],
   "source": [
    "def hamiltonian(n, s=None, verbose=False):\n",
    "    outerBitstrings = generateBitstrings(n)\n",
    "    innerBitstrings = generateBitstrings(n-1)\n",
    "    if s == None:\n",
    "        s = outerBitstrings[-1]\n",
    "    f = generateF(outerBitstrings, s)\n",
    "    outerSum = np.zeros((2**(2*n-1), 2**(2*n-1)))\n",
    "    for x in outerBitstrings:\n",
    "        v = bitstringToVector(x)\n",
    "        innerSum = np.zeros((2**(n-1), 2**(n-1)))\n",
    "        for y in innerBitstrings:\n",
    "            w = bitstringToVector(y)\n",
    "            innerSum += hammingDistance(y, f[x]) * np.outer(w, w)\n",
    "        outerSum += np.kron(np.outer(v, v), innerSum)\n",
    "    if verbose:\n",
    "        print('Outer bitstrings:', outerBitstrings)\n",
    "        print('Inner bitstrings:', innerBitstrings)\n",
    "        print('Function f(x):   ', f)\n",
    "    return outerSum\n",
    "\n",
    "qubo = hamiltonian(2, verbose=True)\n",
    "qubo"
   ]
  },
  {
   "cell_type": "markdown",
   "metadata": {},
   "source": [
    "# Solve QUBO"
   ]
  },
  {
   "cell_type": "code",
   "execution_count": 4,
   "metadata": {},
   "outputs": [
    {
     "data": {
      "text/plain": [
       "{'00000000',\n",
       " '00000010',\n",
       " '00000100',\n",
       " '00000110',\n",
       " '00010000',\n",
       " '00010010',\n",
       " '00010100',\n",
       " '00010110',\n",
       " '10000000',\n",
       " '10000010',\n",
       " '10000100',\n",
       " '10000110',\n",
       " '10010000',\n",
       " '10010010',\n",
       " '10010100',\n",
       " '10010110'}"
      ]
     },
     "execution_count": 4,
     "metadata": {},
     "output_type": "execute_result"
    }
   ],
   "source": [
    "def solveQubo(q, n):\n",
    "    mins = set()\n",
    "    minExpectation = np.inf\n",
    "    for i in range(2**((2**n)*(2**(n-1)))):\n",
    "        x = f'{i:0{(2**n)*(2**(n-1))}b}'\n",
    "        v = np.array(list(map(int, list(x))))\n",
    "        expectation = v.T @ q @ v\n",
    "        # if expectation <= 0:\n",
    "        #     print(x, expectation)\n",
    "        if expectation < minExpectation:\n",
    "            minExpectation = expectation\n",
    "            mins = set()\n",
    "            mins.add(x)\n",
    "        if expectation == minExpectation:\n",
    "            mins.add(x)\n",
    "    return mins, minExpectation\n",
    "\n",
    "# def interpretResults(results, n):\n",
    "#     candidates = set()\n",
    "#     decodedResults = set()\n",
    "#     for result in results:\n",
    "#         indices = list(find_all(result, '1'))\n",
    "#         for index in indices:\n",
    "#             if index not in candidates:\n",
    "#                 print(f'{index:0{2*n-1}b}')\n",
    "#                 candidates.add(index)\n",
    "#             decodedResults.add(f'{index:0{2*n-1}b}'[n:])\n",
    "#     return decodedResults\n",
    "\n",
    "results, expectation = solveQubo(qubo, 2)\n",
    "results"
   ]
  }
 ],
 "metadata": {
  "kernelspec": {
   "display_name": "research",
   "language": "python",
   "name": "python3"
  },
  "language_info": {
   "codemirror_mode": {
    "name": "ipython",
    "version": 3
   },
   "file_extension": ".py",
   "mimetype": "text/x-python",
   "name": "python",
   "nbconvert_exporter": "python",
   "pygments_lexer": "ipython3",
   "version": "3.12.5"
  }
 },
 "nbformat": 4,
 "nbformat_minor": 2
}
