{
 "cells": [
  {
   "cell_type": "markdown",
   "metadata": {},
   "source": [
    "# Helper Functions"
   ]
  },
  {
   "cell_type": "code",
   "execution_count": 1,
   "metadata": {},
   "outputs": [],
   "source": [
    "def generateBitstrings(n):\n",
    "    bitstrings = []\n",
    "    for i in range(2**n):\n",
    "        bitstrings.append(f'{i:0{n}b}')\n",
    "    return bitstrings\n",
    "\n",
    "def interpretSolutions(solutions):\n",
    "    for sol in solutions:\n",
    "        print(sol)\n",
    "        print(f'x = {sol[0]}')\n",
    "        print(f'y = {sol[1]}')\n",
    "        print(f'z = {sol[2]}')\n",
    "        print(f'a = {sol[3]}')\n",
    "        print('-----')"
   ]
  },
  {
   "cell_type": "markdown",
   "metadata": {},
   "source": [
    "# Define the QUBO"
   ]
  },
  {
   "cell_type": "code",
   "execution_count": 2,
   "metadata": {},
   "outputs": [],
   "source": [
    "def QUBO(x, y, z, a):\n",
    "    return 2*x*y - 2*(x+y)*z - 4*(x+y)*a + 4*a*z + x + y + z + 4*a"
   ]
  },
  {
   "cell_type": "markdown",
   "metadata": {},
   "source": [
    "# Solve the QUBO"
   ]
  },
  {
   "cell_type": "code",
   "execution_count": null,
   "metadata": {},
   "outputs": [
    {
     "name": "stdout",
     "output_type": "stream",
     "text": [
      "0000\n",
      "x = 0\n",
      "y = 0\n",
      "z = 0\n",
      "a = 0\n",
      "-----\n",
      "1010\n",
      "x = 1\n",
      "y = 0\n",
      "z = 1\n",
      "a = 0\n",
      "-----\n",
      "0110\n",
      "x = 0\n",
      "y = 1\n",
      "z = 1\n",
      "a = 0\n",
      "-----\n",
      "1101\n",
      "x = 1\n",
      "y = 1\n",
      "z = 0\n",
      "a = 1\n",
      "-----\n"
     ]
    }
   ],
   "source": [
    "def solveQUBO():\n",
    "    solutions = set()\n",
    "    bitstrings = generateBitstrings(4)\n",
    "    for b in bitstrings:\n",
    "        expectation = QUBO(int(b[0]), int(b[1]), int(b[2]), int(b[3]))\n",
    "        if expectation == 0:\n",
    "            solutions.add(b)\n",
    "    return solutions\n",
    "\n",
    "interpretSolutions(solveQUBO())\n"
   ]
  }
 ],
 "metadata": {
  "kernelspec": {
   "display_name": "research",
   "language": "python",
   "name": "python3"
  },
  "language_info": {
   "codemirror_mode": {
    "name": "ipython",
    "version": 3
   },
   "file_extension": ".py",
   "mimetype": "text/x-python",
   "name": "python",
   "nbconvert_exporter": "python",
   "pygments_lexer": "ipython3",
   "version": "3.12.5"
  }
 },
 "nbformat": 4,
 "nbformat_minor": 2
}
