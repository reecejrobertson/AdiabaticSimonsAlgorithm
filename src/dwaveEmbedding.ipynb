{
 "cells": [
  {
   "cell_type": "code",
   "execution_count": 1,
   "metadata": {},
   "outputs": [],
   "source": [
    "import dimod\n",
    "import dwave.inspector\n",
    "from dwave.system import DWaveSampler, EmbeddingComposite"
   ]
  },
  {
   "cell_type": "code",
   "execution_count": 2,
   "metadata": {},
   "outputs": [],
   "source": [
    "def generateQUBO(n, penalties=None):\n",
    "    '''\n",
    "    Generate the QUBO for a Simon's problem. The \"secret string\" is the\n",
    "    bitstring of all 1s.\n",
    "    PARAMS:\n",
    "        n       (int):   The number of qubits in the oracle.\n",
    "        penalty (array): The penalties added to output transitions.\n",
    "    RETURNS:\n",
    "        (dict) The QUBO for the Simon's problem.\n",
    "    '''\n",
    "\n",
    "    def indexIter():\n",
    "        '''\n",
    "        An iterator to track qubit indices.\n",
    "        '''\n",
    "        i = 0\n",
    "        while True:\n",
    "            yield i\n",
    "            i += 1\n",
    "\n",
    "    # No penalties added by default.\n",
    "    if type(penalties) == None:\n",
    "        penalties = [0] * (n - 1)\n",
    "\n",
    "    # Initialize needed variables.\n",
    "    Q = dict()\n",
    "    qubitIndex = indexIter()\n",
    "    in2 = next(qubitIndex)\n",
    "    Q[(in2, in2)] = 0.0\n",
    "\n",
    "    # For each qubit:\n",
    "    for i in range(n-1):\n",
    "\n",
    "        # Update qubit indices.\n",
    "        in1 = in2\n",
    "        in2 = next(qubitIndex)\n",
    "        out = next(qubitIndex)\n",
    "        ancilla = next(qubitIndex)\n",
    "\n",
    "        # Add a one qubit to the QUBO oracle.\n",
    "        Q[(in1, in1)] += 1.0\n",
    "        Q[(in1, in2)] = 2.0\n",
    "        Q[(in1, out)] = -2.0\n",
    "        Q[(in1, ancilla)] = -4.0\n",
    "        Q[(in2, in2)] = 1.0\n",
    "        Q[(in2, out)] = -2.0\n",
    "        Q[(in2, ancilla)] = -4.0\n",
    "        Q[(out, out)] = 1.0 + penalties[i]\n",
    "        Q[(out, ancilla)] = 4.0\n",
    "        Q[(ancilla, ancilla)] = 4.0\n",
    "\n",
    "    return Q"
   ]
  },
  {
   "cell_type": "code",
   "execution_count": 6,
   "metadata": {},
   "outputs": [
    {
     "data": {
      "text/html": [
       "<iframe src=http://127.0.0.1:18002/?problemId=28d2e925-0ac1-4be2-b93c-93b01a86cb73 width=\"100%\" height=640></iframe>"
      ],
      "text/plain": [
       "Serving Inspector on http://127.0.0.1:18002/?problemId=28d2e925-0ac1-4be2-b93c-93b01a86cb73"
      ]
     },
     "metadata": {},
     "output_type": "display_data"
    },
    {
     "data": {
      "text/plain": [
       "'http://127.0.0.1:18002/?problemId=28d2e925-0ac1-4be2-b93c-93b01a86cb73'"
      ]
     },
     "execution_count": 6,
     "metadata": {},
     "output_type": "execute_result"
    }
   ],
   "source": [
    "N = 50\n",
    "\n",
    "# Get sampler\n",
    "sampler = EmbeddingComposite(\n",
    "    DWaveSampler(\n",
    "        solver=\"Advantage_system5.4\",\n",
    "        token=\"julr-a86ece088ec3ae431ae7ee0541c03112c43d7af4\",\n",
    "        region=\"eu-central-1\",\n",
    "    )\n",
    ")\n",
    "\n",
    "qubo = generateQUBO(N, [2*(-1**i) for i in range(N-1)])\n",
    "# Define a problem\n",
    "params = list(dimod.Binaries([f'x{n}' for n in range(3*N-2)]))\n",
    "\n",
    "bqm = sum([coeff*params[x1]*params[x2] for ((x1, x2), coeff) in list(qubo.items())])\n",
    "\n",
    "# Sample\n",
    "sampleset = sampler.sample(bqm, num_reads=100)\n",
    "\n",
    "# Inspect\n",
    "dwave.inspector.show(sampleset)"
   ]
  },
  {
   "cell_type": "code",
   "execution_count": 4,
   "metadata": {},
   "outputs": [
    {
     "data": {
      "text/html": [
       "<iframe src=http://127.0.0.1:18002/?problemId=b4669f63-e72b-4cb2-8d46-154243ef2fb7 width=\"100%\" height=640></iframe>"
      ],
      "text/plain": [
       "Serving Inspector on http://127.0.0.1:18002/?problemId=b4669f63-e72b-4cb2-8d46-154243ef2fb7"
      ]
     },
     "metadata": {},
     "output_type": "display_data"
    },
    {
     "data": {
      "text/plain": [
       "'http://127.0.0.1:18002/?problemId=b4669f63-e72b-4cb2-8d46-154243ef2fb7'"
      ]
     },
     "execution_count": 4,
     "metadata": {},
     "output_type": "execute_result"
    }
   ],
   "source": [
    "N = 3\n",
    "\n",
    "# Get sampler\n",
    "sampler = EmbeddingComposite(\n",
    "    DWaveSampler(\n",
    "        solver=\"Advantage_system5.4\",\n",
    "        token=\"julr-a86ece088ec3ae431ae7ee0541c03112c43d7af4\",\n",
    "        region=\"eu-central-1\",\n",
    "    )\n",
    ")\n",
    "\n",
    "qubo = generateQUBO(N, [2*(-1**i) for i in range(N-1)])\n",
    "# Define a problem\n",
    "params = list(dimod.Binaries([f'x{n}' for n in range(3*N-2)]))\n",
    "\n",
    "bqm = sum([coeff*params[x1]*params[x2] for ((x1, x2), coeff) in list(qubo.items())])\n",
    "\n",
    "# Sample\n",
    "sampleset = sampler.sample(bqm, num_reads=100)\n",
    "\n",
    "# Inspect\n",
    "dwave.inspector.show(sampleset)\n"
   ]
  }
 ],
 "metadata": {
  "kernelspec": {
   "display_name": "qiskit13",
   "language": "python",
   "name": "python3"
  },
  "language_info": {
   "codemirror_mode": {
    "name": "ipython",
    "version": 3
   },
   "file_extension": ".py",
   "mimetype": "text/x-python",
   "name": "python",
   "nbconvert_exporter": "python",
   "pygments_lexer": "ipython3",
   "version": "3.13.1"
  }
 },
 "nbformat": 4,
 "nbformat_minor": 2
}
