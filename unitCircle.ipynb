{
 "cells": [
  {
   "cell_type": "code",
   "execution_count": 1,
   "metadata": {},
   "outputs": [],
   "source": [
    "import numpy as np"
   ]
  },
  {
   "cell_type": "code",
   "execution_count": 2,
   "metadata": {},
   "outputs": [],
   "source": [
    "def bitwiseMetric(x, y):\n",
    "    summation = 0\n",
    "    for i, bit in enumerate(x):\n",
    "        summation += int(bit) * int(y[i])\n",
    "    return summation"
   ]
  },
  {
   "cell_type": "code",
   "execution_count": 3,
   "metadata": {},
   "outputs": [],
   "source": [
    "def bitwiseNorm(x):\n",
    "    return bitwiseMetric(x, x)"
   ]
  },
  {
   "cell_type": "code",
   "execution_count": 4,
   "metadata": {},
   "outputs": [],
   "source": [
    "def bitwiseNormMod2(x):\n",
    "    return bitwiseNorm(x) % 2"
   ]
  },
  {
   "cell_type": "code",
   "execution_count": 5,
   "metadata": {},
   "outputs": [],
   "source": [
    "def generateBitstrings(n):\n",
    "    bitstrings = []\n",
    "    for i in range(2**n):\n",
    "        bitstrings.append(f'{i:0{n}b}')\n",
    "    return bitstrings"
   ]
  },
  {
   "cell_type": "code",
   "execution_count": 6,
   "metadata": {},
   "outputs": [
    {
     "name": "stdout",
     "output_type": "stream",
     "text": [
      "n = 2\n",
      "01\n",
      "10\n",
      "----------\n",
      "n = 3\n",
      "001\n",
      "010\n",
      "100\n",
      "111\n",
      "----------\n",
      "n = 4\n",
      "0001\n",
      "0010\n",
      "0100\n",
      "0111\n",
      "1000\n",
      "1011\n",
      "1101\n",
      "1110\n",
      "----------\n",
      "n = 5\n",
      "00001\n",
      "00010\n",
      "00100\n",
      "00111\n",
      "01000\n",
      "01011\n",
      "01101\n",
      "01110\n",
      "10000\n",
      "10011\n",
      "10101\n",
      "10110\n",
      "11001\n",
      "11010\n",
      "11100\n",
      "11111\n",
      "----------\n"
     ]
    }
   ],
   "source": [
    "for n in range(2,6):\n",
    "    print('n =', n)\n",
    "    bitstrings = generateBitstrings(n)\n",
    "    for bitstring in bitstrings:\n",
    "        if bitwiseNormMod2(bitstring) == 1:\n",
    "            print(bitstring)\n",
    "    print('----------')"
   ]
  },
  {
   "cell_type": "code",
   "execution_count": 7,
   "metadata": {},
   "outputs": [
    {
     "name": "stdout",
     "output_type": "stream",
     "text": [
      "n = 2\n",
      "01\n",
      "10\n",
      "----------\n",
      "n = 3\n",
      "001\n",
      "010\n",
      "100\n",
      "----------\n",
      "n = 4\n",
      "0001\n",
      "0010\n",
      "0100\n",
      "1000\n",
      "----------\n",
      "n = 5\n",
      "00001\n",
      "00010\n",
      "00100\n",
      "01000\n",
      "10000\n",
      "----------\n"
     ]
    }
   ],
   "source": [
    "for n in range(2,6):\n",
    "    print('n =', n)\n",
    "    bitstrings = generateBitstrings(n)\n",
    "    for bitstring in bitstrings:\n",
    "        if bitwiseNorm(bitstring) == 1:\n",
    "            print(bitstring)\n",
    "    print('----------')"
   ]
  },
  {
   "cell_type": "code",
   "execution_count": 8,
   "metadata": {},
   "outputs": [
    {
     "name": "stdout",
     "output_type": "stream",
     "text": [
      "n = 2\n",
      "00 0\n",
      "01 1\n",
      "10 1\n",
      "11 2\n",
      "----------\n",
      "n = 3\n",
      "000 0\n",
      "001 1\n",
      "010 1\n",
      "011 2\n",
      "100 1\n",
      "101 2\n",
      "110 2\n",
      "111 3\n",
      "----------\n",
      "n = 4\n",
      "0000 0\n",
      "0001 1\n",
      "0010 1\n",
      "0011 2\n",
      "0100 1\n",
      "0101 2\n",
      "0110 2\n",
      "0111 3\n",
      "1000 1\n",
      "1001 2\n",
      "1010 2\n",
      "1011 3\n",
      "1100 2\n",
      "1101 3\n",
      "1110 3\n",
      "1111 4\n",
      "----------\n",
      "n = 5\n",
      "00000 0\n",
      "00001 1\n",
      "00010 1\n",
      "00011 2\n",
      "00100 1\n",
      "00101 2\n",
      "00110 2\n",
      "00111 3\n",
      "01000 1\n",
      "01001 2\n",
      "01010 2\n",
      "01011 3\n",
      "01100 2\n",
      "01101 3\n",
      "01110 3\n",
      "01111 4\n",
      "10000 1\n",
      "10001 2\n",
      "10010 2\n",
      "10011 3\n",
      "10100 2\n",
      "10101 3\n",
      "10110 3\n",
      "10111 4\n",
      "11000 2\n",
      "11001 3\n",
      "11010 3\n",
      "11011 4\n",
      "11100 3\n",
      "11101 4\n",
      "11110 4\n",
      "11111 5\n",
      "----------\n"
     ]
    }
   ],
   "source": [
    "for n in range(2,6):\n",
    "    print('n =', n)\n",
    "    bitstrings = generateBitstrings(n)\n",
    "    for bitstring in bitstrings:\n",
    "        print(bitstring, bitwiseNorm(bitstring))\n",
    "    print('----------')"
   ]
  }
 ],
 "metadata": {
  "kernelspec": {
   "display_name": "research",
   "language": "python",
   "name": "python3"
  },
  "language_info": {
   "codemirror_mode": {
    "name": "ipython",
    "version": 3
   },
   "file_extension": ".py",
   "mimetype": "text/x-python",
   "name": "python",
   "nbconvert_exporter": "python",
   "pygments_lexer": "ipython3",
   "version": "3.12.5"
  }
 },
 "nbformat": 4,
 "nbformat_minor": 2
}
